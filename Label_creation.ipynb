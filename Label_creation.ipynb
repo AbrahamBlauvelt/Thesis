{
 "cells": [
  {
   "cell_type": "markdown",
   "id": "72b2edae-9189-4fa6-bba5-dadab681147a",
   "metadata": {},
   "source": [
    "Label Preparation"
   ]
  },
  {
   "cell_type": "code",
   "execution_count": 11,
   "id": "e3fe7d40-b022-463f-92ef-8de8bd398577",
   "metadata": {},
   "outputs": [],
   "source": [
    "#This code is copied and further customized/changed from Tobias Bosch his work, \n",
    "\n",
    "import pandas as pd\n",
    "import matplotlib.pyplot as plt\n",
    "import numpy as np\n",
    "\n",
    "#df1 = pd.read_csv(\"SuJu16jan7_11juli17.csv\")\n",
    "#df1 = pd.read_csv(\"KN5jan7_12sep2017TU.csv\")\n",
    "#df1 = pd.read_csv(\"ReKe10jan7_20012016_revised.csv\")\n",
    "#df1 = pd.read_csv(\"PiKe4jan7_11juli17_TU.csv\")"
   ]
  },
  {
   "cell_type": "code",
   "execution_count": 3,
   "id": "43835b39-af5e-47a6-bcbe-099421380a05",
   "metadata": {},
   "outputs": [
    {
     "name": "stdout",
     "output_type": "stream",
     "text": [
      "['Translation Engl 1', 'Translation Engl 2']\n",
      "0      Translation Engl 1\n",
      "1      Translation Engl 1\n",
      "2      Translation Engl 1\n",
      "3      Translation Engl 1\n",
      "4      Translation Engl 1\n",
      "              ...        \n",
      "371    Translation Engl 2\n",
      "372    Translation Engl 2\n",
      "373    Translation Engl 2\n",
      "374    Translation Engl 2\n",
      "375    Translation Engl 2\n",
      "Name: Unnamed: 0, Length: 376, dtype: object\n"
     ]
    }
   ],
   "source": [
    "#signer IDs\n",
    "#Switch out signer ID columns to (0:,0) for SuJu and (1:, 1) for the rest\n",
    "signers = df1.iloc[0:, 0]\n",
    "signer_id = []\n",
    "\n",
    "for ID in signers:\n",
    "    if ID not in signer_id:\n",
    "        signer_id.append(ID)\n",
    "        \n",
    "print(signer_id)\n",
    "print(df1['Unnamed: 0'])"
   ]
  },
  {
   "cell_type": "code",
   "execution_count": 4,
   "id": "4a3a00e0-5053-4439-94a5-48be3ff70059",
   "metadata": {},
   "outputs": [
    {
     "name": "stdout",
     "output_type": "stream",
     "text": [
      "376\n"
     ]
    }
   ],
   "source": [
    "#switch out Translation 1 for Translation Engl 1 and Translation 2 for Translation Engl 2.\n",
    "signer1translation = df1[df1['Unnamed: 0'] == 'Translation Engl 1']\n",
    "signer2translation = df1[df1['Unnamed: 0'] == 'Translation Engl 2']\n",
    "totalsign = [signer1translation, signer2translation]\n",
    "#print(totalsign)\n",
    "df = pd.concat(totalsign)\n",
    "print(len(df))\n",
    "\n",
    "#print(len(signer1translation))"
   ]
  },
  {
   "cell_type": "code",
   "execution_count": 5,
   "id": "206ccc0e-650f-4a59-9103-77c8bce1a6ad",
   "metadata": {},
   "outputs": [
    {
     "name": "stdout",
     "output_type": "stream",
     "text": [
      "             Unnamed: 0    BT(ms)    ET(ms)\n",
      "0    Translation Engl 1    16.491    17.651\n",
      "1    Translation Engl 1    17.701    19.771\n",
      "2    Translation Engl 1    20.111    22.251\n",
      "3    Translation Engl 1    22.311    24.341\n",
      "4    Translation Engl 1    24.361    26.071\n",
      "..                  ...       ...       ...\n",
      "371  Translation Engl 2  1433.746  1438.186\n",
      "372  Translation Engl 2  1438.256  1443.116\n",
      "373  Translation Engl 2  1444.011  1446.321\n",
      "374  Translation Engl 2  1456.971  1459.601\n",
      "375  Translation Engl 2  1460.131  1463.721\n",
      "\n",
      "[376 rows x 3 columns]\n"
     ]
    }
   ],
   "source": [
    "#make new df with signer,begin time, end time\n",
    "#Replace 0 with 1 for SuJu\n",
    "\n",
    "newdf = df.drop(df.columns[[1,2,4,6,7,8]], axis = 1, inplace = False)\n",
    "\n",
    "#here we specify the amount of frames to be extracted from the ELAN files\n",
    "amount_of_frames_to_be_extracted = 900\n",
    "#make rows for new dataframe\n",
    "rows = []\n",
    "for i in range(1,amount_of_frames_to_be_extracted+1):\n",
    "    rows.append(i)\n",
    "\n",
    "#make a list of tuples with the signer,begin time, end time\n",
    "timelist = []\n",
    "newtimes = []\n",
    "for index, row in newdf.iterrows():\n",
    "    timelist.append((row[0],row[1],row[2]))\n",
    "\n",
    "print(newdf)\n",
    "#print(len(newdf))\n",
    "#We only want a certain amount of frames and thus also a certain amount of seconds"
   ]
  },
  {
   "cell_type": "code",
   "execution_count": 6,
   "id": "d1d75e1b-815a-4a13-8aee-de26c8574175",
   "metadata": {},
   "outputs": [
    {
     "name": "stdout",
     "output_type": "stream",
     "text": [
      "[('Translation Engl 1', 16.491, 17.651), ('Translation Engl 1', 17.701, 19.771), ('Translation Engl 1', 20.111, 22.251), ('Translation Engl 1', 22.311, 24.341), ('Translation Engl 1', 24.361, 26.071), ('Translation Engl 1', 26.404, 29.854), ('Translation Engl 1', 30.034, 31.674), ('Translation Engl 1', 31.704, 32.164), ('Translation Engl 1', 39.687, 40.267), ('Translation Engl 1', 40.972, 42.107), ('Translation Engl 1', 43.564, 44.384), ('Translation Engl 1', 44.684, 45.194), ('Translation Engl 1', 60.244, 65.884), ('Translation Engl 1', 69.354, 70.944), ('Translation Engl 1', 80.544, 88.074), ('Translation Engl 1', 115.534, 117.614), ('Translation Engl 1', 117.906, 119.926), ('Translation Engl 1', 120.829, 123.529), ('Translation Engl 1', 123.569, 124.779), ('Translation Engl 1', 124.989, 126.589), ('Translation Engl 1', 140.684, 142.994), ('Translation Engl 1', 143.514, 145.214), ('Translation Engl 1', 145.304, 147.784), ('Translation Engl 1', 147.844, 148.424), ('Translation Engl 1', 148.554, 150.214), ('Translation Engl 1', 150.694, 153.534), ('Translation Engl 1', 178.443, 182.993), ('Translation Engl 1', 183.073, 186.223), ('Translation Engl 1', 186.273, 195.203), ('Translation Engl 1', 225.923, 235.043), ('Translation Engl 1', 235.083, 246.053), ('Translation Engl 1', 261.416, 263.476), ('Translation Engl 1', 346.861, 352.901), ('Translation Engl 1', 352.921, 360.061), ('Translation Engl 1', 360.171, 362.251), ('Translation Engl 1', 362.311, 364.571), ('Translation Engl 1', 373.481, 378.061), ('Translation Engl 1', 390.961, 397.541), ('Translation Engl 1', 409.731, 413.371), ('Translation Engl 1', 432.011, 434.131), ('Translation Engl 1', 438.822, 440.902), ('Translation Engl 1', 446.942, 451.762), ('Translation Engl 1', 458.292, 461.912), ('Translation Engl 1', 470.952, 472.982), ('Translation Engl 1', 474.362, 474.772), ('Translation Engl 1', 479.732, 480.532), ('Translation Engl 1', 485.627, 488.787), ('Translation Engl 1', 497.816, 498.976), ('Translation Engl 1', 504.236, 506.516), ('Translation Engl 1', 506.686, 506.926), ('Translation Engl 1', 508.579, 509.409), ('Translation Engl 1', 509.691, 510.601), ('Translation Engl 1', 521.262, 522.832), ('Translation Engl 1', 532.461, 534.501), ('Translation Engl 1', 535.511, 536.631), ('Translation Engl 1', 538.661, 539.781), ('Translation Engl 1', 540.101, 541.761), ('Translation Engl 1', 548.851, 552.671), ('Translation Engl 1', 573.147, 575.827), ('Translation Engl 1', 576.057, 581.847), ('Translation Engl 1', 590.233, 591.973), ('Translation Engl 1', 593.287, 594.447), ('Translation Engl 1', 596.411, 602.041), ('Translation Engl 1', 602.521, 604.051), ('Translation Engl 1', 626.591, 628.861), ('Translation Engl 1', 628.921, 631.011), ('Translation Engl 1', 631.071, 632.271), ('Translation Engl 1', 632.331, 635.851), ('Translation Engl 1', 640.451, 641.101), ('Translation Engl 1', 646.171, 648.191), ('Translation Engl 1', 657.801, 661.731), ('Translation Engl 1', 667.091, 669.491), ('Translation Engl 1', 669.551, 671.481), ('Translation Engl 1', 696.521, 700.951), ('Translation Engl 1', 704.901, 708.991), ('Translation Engl 1', 709.031, 712.591), ('Translation Engl 1', 728.754, 731.404), ('Translation Engl 1', 748.384, 753.974), ('Translation Engl 1', 754.134, 756.584), ('Translation Engl 1', 757.314, 759.924), ('Translation Engl 1', 761.084, 763.944), ('Translation Engl 1', 769.964, 772.134), ('Translation Engl 1', 772.594, 774.124), ('Translation Engl 1', 782.324, 783.624), ('Translation Engl 1', 803.634, 808.104), ('Translation Engl 1', 808.434, 810.034), ('Translation Engl 1', 844.331, 847.451), ('Translation Engl 1', 852.641, 856.381), ('Translation Engl 1', 858.811, 861.631), ('Translation Engl 1', 875.801, 877.641), ('Translation Engl 1', 890.291, 898.701), ('Translation Engl 2', 7.9, 8.54), ('Translation Engl 2', 8.99, 12.22), ('Translation Engl 2', 12.351, 15.861), ('Translation Engl 2', 16.171, 16.691), ('Translation Engl 2', 37.184, 38.264), ('Translation Engl 2', 38.734, 40.174), ('Translation Engl 2', 40.254, 40.854), ('Translation Engl 2', 40.944, 41.264), ('Translation Engl 2', 41.264, 41.664), ('Translation Engl 2', 42.254, 43.944), ('Translation Engl 2', 44.014, 45.824), ('Translation Engl 2', 46.264, 48.864), ('Translation Engl 2', 48.924, 51.774), ('Translation Engl 2', 52.084, 61.194), ('Translation Engl 2', 64.984, 70.324), ('Translation Engl 2', 70.364, 70.914), ('Translation Engl 2', 70.984, 73.504), ('Translation Engl 2', 73.684, 77.654), ('Translation Engl 2', 77.754, 79.484), ('Translation Engl 2', 87.004, 91.854), ('Translation Engl 2', 95.474, 102.004), ('Translation Engl 2', 102.494, 104.064), ('Translation Engl 2', 104.144, 105.334), ('Translation Engl 2', 105.404, 106.414), ('Translation Engl 2', 106.704, 109.974), ('Translation Engl 2', 110.594, 115.744), ('Translation Engl 2', 127.829, 132.269), ('Translation Engl 2', 132.409, 134.979), ('Translation Engl 2', 135.209, 137.729), ('Translation Engl 2', 137.929, 141.729), ('Translation Engl 2', 153.501, 160.051), ('Translation Engl 2', 160.131, 161.771), ('Translation Engl 2', 161.961, 166.381), ('Translation Engl 2', 166.441, 169.171), ('Translation Engl 2', 169.291, 171.041), ('Translation Engl 2', 171.411, 177.701), ('Translation Engl 2', 195.303, 201.113), ('Translation Engl 2', 201.183, 207.133), ('Translation Engl 2', 207.203, 215.493), ('Translation Engl 2', 215.533, 219.893), ('Translation Engl 2', 220.313, 226.753), ('Translation Engl 2', 245.881, 253.701), ('Translation Engl 2', 253.781, 261.301), ('Translation Engl 2', 262.841, 264.921), ('Translation Engl 2', 265.071, 270.411), ('Translation Engl 2', 270.481, 273.291), ('Translation Engl 2', 273.701, 276.111), ('Translation Engl 2', 276.191, 280.731), ('Translation Engl 2', 280.871, 282.251), ('Translation Engl 2', 282.681, 287.031), ('Translation Engl 2', 287.131, 288.651), ('Translation Engl 2', 288.771, 292.401), ('Translation Engl 2', 292.421, 296.351), ('Translation Engl 2', 296.551, 302.521), ('Translation Engl 2', 303.091, 306.101), ('Translation Engl 2', 306.291, 308.401), ('Translation Engl 2', 308.515, 309.655), ('Translation Engl 2', 309.735, 312.655), ('Translation Engl 2', 312.701, 314.301), ('Translation Engl 2', 314.461, 317.391), ('Translation Engl 2', 317.501, 323.291), ('Translation Engl 2', 323.361, 327.361), ('Translation Engl 2', 327.451, 331.581), ('Translation Engl 2', 331.681, 335.801), ('Translation Engl 2', 336.001, 337.791), ('Translation Engl 2', 338.061, 341.901), ('Translation Engl 2', 342.071, 346.821), ('Translation Engl 2', 363.681, 372.041), ('Translation Engl 2', 378.161, 387.581), ('Translation Engl 2', 387.861, 391.941), ('Translation Engl 2', 399.601, 404.841), ('Translation Engl 2', 404.871, 408.471), ('Translation Engl 2', 414.811, 423.811), ('Translation Engl 2', 424.501, 427.581), ('Translation Engl 2', 427.771, 431.331), ('Translation Engl 2', 432.781, 438.961), ('Translation Engl 2', 440.352, 442.872), ('Translation Engl 2', 442.932, 449.162), ('Translation Engl 2', 450.262, 458.072), ('Translation Engl 2', 459.852, 464.982), ('Translation Engl 2', 465.042, 469.942), ('Translation Engl 2', 470.012, 471.842), ('Translation Engl 2', 472.082, 474.712), ('Translation Engl 2', 474.802, 479.682), ('Translation Engl 2', 479.832, 480.132), ('Translation Engl 2', 480.652, 486.642), ('Translation Engl 2', 487.827, 489.027), ('Translation Engl 2', 489.307, 492.707), ('Translation Engl 2', 492.806, 496.806), ('Translation Engl 2', 497.096, 498.846), ('Translation Engl 2', 505.916, 506.866), ('Translation Engl 2', 507.249, 508.799), ('Translation Engl 2', 511.159, 512.129), ('Translation Engl 2', 513.231, 516.211), ('Translation Engl 2', 516.631, 520.711), ('Translation Engl 2', 528.451, 532.571), ('Translation Engl 2', 534.491, 536.551), ('Translation Engl 2', 537.661, 539.961), ('Translation Engl 2', 540.831, 547.971), ('Translation Engl 2', 552.521, 557.371), ('Translation Engl 2', 557.451, 563.311), ('Translation Engl 2', 563.451, 572.161), ('Translation Engl 2', 581.137, 589.067), ('Translation Engl 2', 589.757, 594.027), ('Translation Engl 2', 601.651, 602.711), ('Translation Engl 2', 634.971, 640.611), ('Translation Engl 2', 640.651, 644.691), ('Translation Engl 2', 644.771, 646.921), ('Translation Engl 2', 648.231, 650.061), ('Translation Engl 2', 651.001, 658.291), ('Translation Engl 2', 668.971, 676.081), ('Translation Engl 2', 676.471, 678.611), ('Translation Engl 2', 700.421, 707.881), ('Translation Engl 2', 712.972, 715.902), ('Translation Engl 2', 716.142, 719.542), ('Translation Engl 2', 731.104, 733.164), ('Translation Engl 2', 733.474, 735.174), ('Translation Engl 2', 747.324, 748.024), ('Translation Engl 2', 756.624, 758.984), ('Translation Engl 2', 763.504, 764.824), ('Translation Engl 2', 765.134, 766.464), ('Translation Engl 2', 768.014, 768.944), ('Translation Engl 2', 774.534, 778.874), ('Translation Engl 2', 780.324, 783.674), ('Translation Engl 2', 783.784, 786.054), ('Translation Engl 2', 802.314, 804.104), ('Translation Engl 2', 805.334, 806.914), ('Translation Engl 2', 844.191, 846.181), ('Translation Engl 2', 847.261, 850.481), ('Translation Engl 2', 855.111, 860.071), ('Translation Engl 2', 860.641, 862.841), ('Translation Engl 2', 862.911, 868.061), ('Translation Engl 2', 868.481, 871.311), ('Translation Engl 2', 872.171, 876.031), ('Translation Engl 2', 876.361, 883.281), ('Translation Engl 2', 883.401, 893.551), ('Translation Engl 2', 896.981, 900.431)]\n",
      "228\n"
     ]
    }
   ],
   "source": [
    "for times in timelist:\n",
    "    if times[1]<= amount_of_frames_to_be_extracted:\n",
    "        newtimes.append(times)\n",
    "\n",
    "        \n",
    "print(newtimes)\n",
    "print(len(newtimes))"
   ]
  },
  {
   "cell_type": "code",
   "execution_count": 10,
   "id": "d7f77619-b72b-469c-bfb0-233751e40192",
   "metadata": {},
   "outputs": [
    {
     "name": "stdout",
     "output_type": "stream",
     "text": [
      "[('Translation Engl 1', 16, 17), ('Translation Engl 1', 17, 19), ('Translation Engl 1', 20, 22), ('Translation Engl 1', 22, 24), ('Translation Engl 1', 24, 26), ('Translation Engl 1', 26, 29), ('Translation Engl 1', 30, 31), ('Translation Engl 1', 31, 32), ('Translation Engl 1', 39, 40), ('Translation Engl 1', 40, 42), ('Translation Engl 1', 43, 44), ('Translation Engl 1', 44, 45), ('Translation Engl 1', 60, 65), ('Translation Engl 1', 69, 70), ('Translation Engl 1', 80, 88), ('Translation Engl 1', 115, 117), ('Translation Engl 1', 117, 119), ('Translation Engl 1', 120, 123), ('Translation Engl 1', 123, 124), ('Translation Engl 1', 124, 126), ('Translation Engl 1', 140, 142), ('Translation Engl 1', 143, 145), ('Translation Engl 1', 145, 147), ('Translation Engl 1', 147, 148), ('Translation Engl 1', 148, 150), ('Translation Engl 1', 150, 153), ('Translation Engl 1', 178, 182), ('Translation Engl 1', 183, 186), ('Translation Engl 1', 186, 195), ('Translation Engl 1', 225, 235), ('Translation Engl 1', 235, 246), ('Translation Engl 1', 261, 263), ('Translation Engl 1', 346, 352), ('Translation Engl 1', 352, 360), ('Translation Engl 1', 360, 362), ('Translation Engl 1', 362, 364), ('Translation Engl 1', 373, 378), ('Translation Engl 1', 390, 397), ('Translation Engl 1', 409, 413), ('Translation Engl 1', 432, 434), ('Translation Engl 1', 438, 440), ('Translation Engl 1', 446, 451), ('Translation Engl 1', 458, 461), ('Translation Engl 1', 470, 472), ('Translation Engl 1', 474, 474), ('Translation Engl 1', 479, 480), ('Translation Engl 1', 485, 488), ('Translation Engl 1', 497, 498), ('Translation Engl 1', 504, 506), ('Translation Engl 1', 506, 506), ('Translation Engl 1', 508, 509), ('Translation Engl 1', 509, 510), ('Translation Engl 1', 521, 522), ('Translation Engl 1', 532, 534), ('Translation Engl 1', 535, 536), ('Translation Engl 1', 538, 539), ('Translation Engl 1', 540, 541), ('Translation Engl 1', 548, 552), ('Translation Engl 1', 573, 575), ('Translation Engl 1', 576, 581), ('Translation Engl 1', 590, 591), ('Translation Engl 1', 593, 594), ('Translation Engl 1', 596, 602), ('Translation Engl 1', 602, 604), ('Translation Engl 1', 626, 628), ('Translation Engl 1', 628, 631), ('Translation Engl 1', 631, 632), ('Translation Engl 1', 632, 635), ('Translation Engl 1', 640, 641), ('Translation Engl 1', 646, 648), ('Translation Engl 1', 657, 661), ('Translation Engl 1', 667, 669), ('Translation Engl 1', 669, 671), ('Translation Engl 1', 696, 700), ('Translation Engl 1', 704, 708), ('Translation Engl 1', 709, 712), ('Translation Engl 1', 728, 731), ('Translation Engl 1', 748, 753), ('Translation Engl 1', 754, 756), ('Translation Engl 1', 757, 759), ('Translation Engl 1', 761, 763), ('Translation Engl 1', 769, 772), ('Translation Engl 1', 772, 774), ('Translation Engl 1', 782, 783), ('Translation Engl 1', 803, 808), ('Translation Engl 1', 808, 810), ('Translation Engl 1', 844, 847), ('Translation Engl 1', 852, 856), ('Translation Engl 1', 858, 861), ('Translation Engl 1', 875, 877), ('Translation Engl 1', 890, 898)]\n",
      "347\n",
      "640\n"
     ]
    }
   ],
   "source": [
    "#creates a list per signer containing frames they signed in  \n",
    "def time_of_signing(signer):\n",
    "    signer_times = []\n",
    "    for times in newtimes:\n",
    "        if times[0]==signer_id[signer]:\n",
    "            signer_times.append((times[0],int(times[1]),int(times[2])))\n",
    "    return signer_times\n",
    "\n",
    "signer1_times = time_of_signing(0)\n",
    "signer2_times = time_of_signing(1)\n",
    "\n",
    "#get all the frames in which they are signing\n",
    "def frames(signingtime):\n",
    "    framessigner = []\n",
    "    for times in signingtime:\n",
    "        for i in range(times[1],times[2]+1):\n",
    "            framessigner.append(i)\n",
    "    return framessigner\n",
    "\n",
    "\n",
    "framessigner1 = frames(signer1_times)\n",
    "framessigner2 = frames(signer2_times)\n",
    "\n",
    "print(len(framessigner1))\n",
    "print(len(framessigner2))\n",
    "\n",
    "#creates a list per signer giving as output a list of 0's and 1's 1 = signing 0 = not signing\n",
    "def binary(frames):\n",
    "    diarization = []\n",
    "    for i in range(1,amount_of_frames_to_be_extracted+1):\n",
    "        if i in frames:\n",
    "            diarization.append(1)\n",
    "        else:\n",
    "            diarization.append(0)\n",
    "    return diarization\n",
    "\n",
    "diarization1 = binary(framessigner1)\n",
    "diarization2 = binary(framessigner2)\n",
    "\n",
    "\n",
    "#function to create another list with 4 classes described in the function\n",
    "def class_maker(a,b):\n",
    "    class_column = []\n",
    "    for i in range(0,len(a)):\n",
    "        #both signers not signing\n",
    "        if a[i] == 0 and b[i]== 0:\n",
    "            class_column.append(0)\n",
    "        #both signers siging\n",
    "        if a[i] == 1 and b[i]== 1:\n",
    "            class_column.append(3)\n",
    "        #signer 1 signing \n",
    "        if a[i] == 1 and b[i] == 0:\n",
    "            class_column.append(1)\n",
    "        #signer 2 signing \n",
    "        if a[i] == 0 and b[i] == 1:\n",
    "            class_column.append(2)\n",
    "    return class_column\n",
    "\n",
    "classes = class_maker(diarization1,diarization2)\n",
    "\n",
    "#function to merge 3 lists\n",
    "def merge_lists(a,b,c,d):\n",
    "    mergeds = []\n",
    "    for i in range(0, len(a)):\n",
    "        merged = []\n",
    "        merged.append(a[i])\n",
    "        merged.append(b[i])\n",
    "        merged.append(c[i])\n",
    "        merged.append(d[i])\n",
    "        mergeds.append(tuple(merged))\n",
    "    return mergeds\n",
    "\n",
    "signdiarization = merge_lists(rows,diarization1,diarization2,classes)\n",
    "#print(signdiarization)"
   ]
  },
  {
   "cell_type": "code",
   "execution_count": 170,
   "id": "3649b7f4-79ea-451f-b82f-916617532b0f",
   "metadata": {},
   "outputs": [
    {
     "name": "stdout",
     "output_type": "stream",
     "text": [
      "['frames', 'Translation Engl 1', 'Translation Engl 2', 'class']\n",
      "2    442\n",
      "1    188\n",
      "0    139\n",
      "3    131\n",
      "Name: class, dtype: int64\n"
     ]
    }
   ],
   "source": [
    "#create columns for the new df\n",
    "column = [\"frames\"]\n",
    "column.extend(signer_id)\n",
    "column.append(\"class\")\n",
    "\n",
    "#create new df\n",
    "df = pd.DataFrame(signdiarization,columns=(column))\n",
    "\n",
    "print(column)\n",
    "#print(df[:50])\n",
    "count = df['class'].value_counts()\n",
    "print(count)"
   ]
  },
  {
   "cell_type": "code",
   "execution_count": 171,
   "id": "db7bd0aa-1736-49bf-ab9e-eaac48f91976",
   "metadata": {},
   "outputs": [
    {
     "data": {
      "image/png": "[encoded data removed]",
      "text/plain": [
       "<Figure size 432x288 with 1 Axes>"
      ]
     },
     "metadata": {},
     "output_type": "display_data"
    }
   ],
   "source": [
    "#df.to_csv(\"PiKe4jan7_11juli2017_annotated\", index = False)\n",
    "#df.to_csv(\"KN5jan7_annotated\", index = False)\n",
    "#df.to_csv(\"Reke10jan7_annotated\", index = False)\n",
    "df.to_csv(\"SuJu16jan7_annotated\", index = False)\n",
    "#count = df['class'].value_counts()\n",
    "#countdf = pd.DataFrame(count)\n",
    "\n",
    "#%% visualisation %%#\n",
    "#check how often signers sign at the same time \n",
    "both_signing = len(df[(df.iloc[:,1] == 1) & (df.iloc[:,2] == 1)].index.tolist())\n",
    "#both signers not signing \n",
    "no_signing = len(df[(df.iloc[:,1] == 0) & (df.iloc[:,2] == 0)].index.tolist())\n",
    "#signer 1 signing but not signer 2\n",
    "signer_1 = len(df[(df.iloc[:,1] == 1) & (df.iloc[:,2] == 0)].index.tolist())\n",
    "#signer 2 signing but not signer 1 \n",
    "signer_2 = len(df[(df.iloc[:,1] == 0) & (df.iloc[:,2] == 1)].index.tolist())\n",
    "\n",
    "\n",
    "objects = ( \"Signer 1: \"+str(signer_1), \"Signer 2: \"+str(signer_2),\n",
    "           \"Both: \"+str(both_signing), \"None: \"+str(no_signing))\n",
    "y_pos = np.arange(len(objects))\n",
    "performance = [signer_1,signer_2,both_signing,no_signing]\n",
    "colours = [\"g\", \"b\", \"c\",\"r\"]\n",
    "fig = plt.figure(facecolor=(1, 1, 1))\n",
    "bars = plt.bar(y_pos, performance, align='center', alpha=0.5, color = colours)\n",
    "plt.xticks(y_pos, objects)\n",
    "\n",
    "\n",
    "plt.ylabel('Amount of frames (1 fps)')\n",
    "plt.title(\"Sign time distribution over \"+str(amount_of_frames_to_be_extracted) + \" frames (1 fps)\")\n",
    "\n",
    "#plt.bar_label()\n",
    "\n",
    "#Change name per file\n",
    "#plt.savefig('PiKe_signtime.png')\n",
    "#plt.savefig('KN5_signtime.png')\n",
    "#plt.savefig('ReKe_signtime.png')\n",
    "plt.savefig('SuJu_signtime.png')\n",
    "plt.show()\n"
   ]
  }
 ],
 "metadata": {
  "kernelspec": {
   "display_name": "Python 3 (ipykernel)",
   "language": "python",
   "name": "python3"
  },
  "language_info": {
   "codemirror_mode": {
    "name": "ipython",
    "version": 3
   },
   "file_extension": ".py",
   "mimetype": "text/x-python",
   "name": "python",
   "nbconvert_exporter": "python",
   "pygments_lexer": "ipython3",
   "version": "3.9.7"
  }
 },
 "nbformat": 4,
 "nbformat_minor": 5
}
